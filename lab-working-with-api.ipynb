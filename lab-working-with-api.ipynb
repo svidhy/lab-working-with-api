{
 "cells": [
  {
   "cell_type": "code",
   "execution_count": 15,
   "id": "ba6741a9",
   "metadata": {},
   "outputs": [],
   "source": [
    "import json\n",
    "import requests\n",
    "import pandas as pd\n",
    "from pandas import json_normalize"
   ]
  },
  {
   "cell_type": "markdown",
   "id": "3c681f9b",
   "metadata": {},
   "source": [
    "### DOG API (providing Facts)"
   ]
  },
  {
   "cell_type": "code",
   "execution_count": 16,
   "id": "00d4e93c",
   "metadata": {},
   "outputs": [
    {
     "data": {
      "text/html": [
       "<div>\n",
       "<style scoped>\n",
       "    .dataframe tbody tr th:only-of-type {\n",
       "        vertical-align: middle;\n",
       "    }\n",
       "\n",
       "    .dataframe tbody tr th {\n",
       "        vertical-align: top;\n",
       "    }\n",
       "\n",
       "    .dataframe thead th {\n",
       "        text-align: right;\n",
       "    }\n",
       "</style>\n",
       "<table border=\"1\" class=\"dataframe\">\n",
       "  <thead>\n",
       "    <tr style=\"text-align: right;\">\n",
       "      <th></th>\n",
       "      <th>facts</th>\n",
       "      <th>success</th>\n",
       "    </tr>\n",
       "  </thead>\n",
       "  <tbody>\n",
       "    <tr>\n",
       "      <th>0</th>\n",
       "      <td>One of Shakespeare’s most mischievous characte...</td>\n",
       "      <td>True</td>\n",
       "    </tr>\n",
       "    <tr>\n",
       "      <th>1</th>\n",
       "      <td>In Iran, it is against the law to own a dog as...</td>\n",
       "      <td>True</td>\n",
       "    </tr>\n",
       "    <tr>\n",
       "      <th>2</th>\n",
       "      <td>In 2001, it was estimated that there are appro...</td>\n",
       "      <td>True</td>\n",
       "    </tr>\n",
       "    <tr>\n",
       "      <th>3</th>\n",
       "      <td>Walt Disney's family dog -- named Sunnee -- wa...</td>\n",
       "      <td>True</td>\n",
       "    </tr>\n",
       "    <tr>\n",
       "      <th>4</th>\n",
       "      <td>Some Search and Rescue (SaR) Dogs are trained ...</td>\n",
       "      <td>True</td>\n",
       "    </tr>\n",
       "  </tbody>\n",
       "</table>\n",
       "</div>"
      ],
      "text/plain": [
       "                                               facts  success\n",
       "0  One of Shakespeare’s most mischievous characte...     True\n",
       "1  In Iran, it is against the law to own a dog as...     True\n",
       "2  In 2001, it was estimated that there are appro...     True\n",
       "3  Walt Disney's family dog -- named Sunnee -- wa...     True\n",
       "4  Some Search and Rescue (SaR) Dogs are trained ...     True"
      ]
     },
     "execution_count": 16,
     "metadata": {},
     "output_type": "execute_result"
    }
   ],
   "source": [
    "#Contains only 5 entries :()\n",
    "response = requests.get('http://dog-api.kinduff.com/api/facts?number=8')\n",
    "\n",
    "response\n",
    "dog_facts = pd.DataFrame(response.json())\n",
    "dog_facts.head()\n",
    "#data.shape"
   ]
  },
  {
   "cell_type": "markdown",
   "id": "c46d430a",
   "metadata": {},
   "source": [
    "### GitHub Bored API which recommends an activity if you are bored"
   ]
  },
  {
   "cell_type": "code",
   "execution_count": 19,
   "id": "e0603a56",
   "metadata": {},
   "outputs": [
    {
     "data": {
      "text/html": [
       "<div>\n",
       "<style scoped>\n",
       "    .dataframe tbody tr th:only-of-type {\n",
       "        vertical-align: middle;\n",
       "    }\n",
       "\n",
       "    .dataframe tbody tr th {\n",
       "        vertical-align: top;\n",
       "    }\n",
       "\n",
       "    .dataframe thead th {\n",
       "        text-align: right;\n",
       "    }\n",
       "</style>\n",
       "<table border=\"1\" class=\"dataframe\">\n",
       "  <thead>\n",
       "    <tr style=\"text-align: right;\">\n",
       "      <th></th>\n",
       "      <th>activity</th>\n",
       "      <th>type</th>\n",
       "      <th>participants</th>\n",
       "      <th>price</th>\n",
       "      <th>link</th>\n",
       "      <th>key</th>\n",
       "      <th>accessibility</th>\n",
       "    </tr>\n",
       "  </thead>\n",
       "  <tbody>\n",
       "    <tr>\n",
       "      <th>0</th>\n",
       "      <td>Go to a music festival with some friends</td>\n",
       "      <td>social</td>\n",
       "      <td>4</td>\n",
       "      <td>0.4</td>\n",
       "      <td></td>\n",
       "      <td>6482790</td>\n",
       "      <td>0.2</td>\n",
       "    </tr>\n",
       "  </tbody>\n",
       "</table>\n",
       "</div>"
      ],
      "text/plain": [
       "                                   activity    type  participants  price link  \\\n",
       "0  Go to a music festival with some friends  social             4    0.4        \n",
       "\n",
       "       key  accessibility  \n",
       "0  6482790            0.2  "
      ]
     },
     "execution_count": 19,
     "metadata": {},
     "output_type": "execute_result"
    }
   ],
   "source": [
    "from pandas import json_normalize\n",
    "\n",
    "response = requests.get('https://www.boredapi.com/api/activity')\n",
    "response\n",
    "results = response.json()\n",
    "bored_rec = json_normalize(results)\n",
    "bored_rec"
   ]
  },
  {
   "cell_type": "markdown",
   "id": "3a80c0ff",
   "metadata": {},
   "source": [
    "### CHuck Norris Jokes"
   ]
  },
  {
   "cell_type": "code",
   "execution_count": 30,
   "id": "96247837",
   "metadata": {},
   "outputs": [
    {
     "data": {
      "text/plain": [
       "0    Chuck Norris can ride a bike. Without getting on.\n",
       "Name: value, dtype: object"
      ]
     },
     "execution_count": 30,
     "metadata": {},
     "output_type": "execute_result"
    }
   ],
   "source": [
    "response = requests.get('https://api.chucknorris.io/jokes/random')\n",
    "response\n",
    "results = response.json()\n",
    "results\n",
    "chuck_norris = json_normalize(results)\n",
    "chuck_norris.head()\n",
    "\n",
    "chuck_norris['value']"
   ]
  },
  {
   "cell_type": "markdown",
   "id": "5b4b4cc9",
   "metadata": {},
   "source": [
    "### Binary Jazz Genre Generator\n",
    "\n",
    "Might be used for the music recommender"
   ]
  },
  {
   "cell_type": "code",
   "execution_count": 25,
   "id": "63a773f2",
   "metadata": {},
   "outputs": [
    {
     "data": {
      "text/plain": [
       "['celtic psych-loungehaus',\n",
       " 'neo icelandic blues',\n",
       " 'swedish progtune',\n",
       " 'new jack grind funk flow',\n",
       " 'hard kodo drum',\n",
       " 'celtic pipework',\n",
       " 'guitar standards',\n",
       " 'baroque flugelhorn chill',\n",
       " 'disco euphonium',\n",
       " 'zither-based mathemo']"
      ]
     },
     "execution_count": 25,
     "metadata": {},
     "output_type": "execute_result"
    }
   ],
   "source": [
    "response = requests.get('https://binaryjazz.us/wp-json/genrenator/v1/genre/10')\n",
    "response\n",
    "results = response.json()\n",
    "results"
   ]
  },
  {
   "cell_type": "code",
   "execution_count": null,
   "id": "931f9516",
   "metadata": {},
   "outputs": [],
   "source": []
  }
 ],
 "metadata": {
  "kernelspec": {
   "display_name": "Python 3 (ipykernel)",
   "language": "python",
   "name": "python3"
  },
  "language_info": {
   "codemirror_mode": {
    "name": "ipython",
    "version": 3
   },
   "file_extension": ".py",
   "mimetype": "text/x-python",
   "name": "python",
   "nbconvert_exporter": "python",
   "pygments_lexer": "ipython3",
   "version": "3.9.13"
  }
 },
 "nbformat": 4,
 "nbformat_minor": 5
}
